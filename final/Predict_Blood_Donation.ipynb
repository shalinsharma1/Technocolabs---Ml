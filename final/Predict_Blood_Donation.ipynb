{
 "cells": [
  {
   "cell_type": "markdown",
   "metadata": {
    "id": "nqWKM0xn4_6o"
   },
   "source": [
    "# **Predict Blood Donation for Future Expectancy**"
   ]
  },
  {
   "cell_type": "markdown",
   "metadata": {
    "id": "GpnbtrxovkNA"
   },
   "source": [
    "Forecasting blood supply is a serious and recurrent problem for blood collection managers: in January 2019, \"Nationwide, the Red Cross saw 27,000 fewer blood donations over the holidays than they see at other times of the year.\" Machine learning can be used to learn the patterns in the data to help to predict future blood donations and therefore save more lives.\n"
   ]
  },
  {
   "cell_type": "markdown",
   "metadata": {
    "id": "u0GSl4Iz51i2"
   },
   "source": [
    "# **Project Tasks**\n",
    "\n",
    "* Inspecting transfusion.data file\n",
    "* Loading the blood donations data\n",
    "* Inspecting transfusion DataFrame\n",
    "* Creating target column\n",
    "* Checking target incidence\n",
    "* Splitting transfusion into train and test datasets\n",
    "* Selecting model using TPOT\n",
    "* Checking the variance\n",
    "* Log normalization\n",
    "* Training the linear regression model\n",
    "* Conclusion"
   ]
  },
  {
   "cell_type": "markdown",
   "metadata": {
    "dc": {
     "key": "3"
    },
    "deletable": false,
    "editable": false,
    "id": "utGlbMwXvfHF",
    "run_control": {
     "frozen": true
    },
    "tags": [
     "context"
    ]
   },
   "source": [
    "## 1. Inspecting transfusion.data file\n",
    "![blood_donation.png](data:image/png;base64,iVBORw0KGgoAAAANSUhEUgAAAMgAAAEbCAYAAACfhcurAAAAAXNSR0IArs4c6QAAAARnQU1BAACxjwv8YQUAAAAJcEhZcwAADsQAAA7EAZUrDhsAAAACYktHRAD/h4/MvwAAGH5JREFUeF7tXQesFUUXPkgvUqR3ERKaUiPkQWjGAhKkB4KACQFCKEpE1AAJSIDYCCIqUoQQMaggBlSkRGwUjaDSMTQpUiJVevP9e8bs/vse9/HevTOzMzv3m+Tl3bJzynfm2zNt5+bL9AqhAAEFCOTLl09IGTFiBL3zzjsKJJoXcY95E2CBCwhs3749cKNUqVIuuCR8AEGcCaVZRzZt2hQYULVqVbPGKNQOgigEM51FnThxInA/IyPDGShAEGdCadaRw4cPBwY0bdrUrDEKtYMgCsFMZ1Fbt2510v18mMVyMq6RO+XPYN1zzz10+/btyPXrUogMogvZNJXbvHlzpzwHQZwKp3lnmjRpYt4IhRaAIArBTFdRBw4ccHKKl50CQdK1VSv0e+fOnYG08uXLK5RsXhQIYj4Gsbdgz549gQ9169aNvT9hB0AQp8JpxpkrV64EiuvUqWPGCE1aQRBNwKaT2GPHjgXu1qxZ0ynXQRCnwmnGmfAg3YwF+rSCIPqwTRvJ4QzimtNYSXctogb8KVq0KF27dk1odu3xIhDEQINyTaW/zcRFgqCL5VprNehPsWLFDGrXoxoE0YNrWkotUaKEc36DIM6F1JxDhQoVMqdck2YQRBOw6Si2QIECzrkNgjgXUnMOhQfr5qxQqxkEUYtnWktzbYqXgwmCpHWTVuu8vxaiVqpZaSCIWfyd0n7y5Mm7+jNp0iTibtj69etj4zcWCmMTKnsN5cG5/xz6ypUriZ8JadmypSCDX+bPn09DhgwJ3selOwaC2NvuYmHZqFGjcjxmlAkybdo02rdvHy1YsCDwZ8OGDdS6detY+AeCxCJM9hn55ptv0tixY5M2bPny5dS9e/ek65mqAIKYQj7Gehs1akQ7duxI2gM+8WTLli1J1zNZAYN0k+jHUHe5cuWykGPixIliB+/atWtz9YYPl+vVq1eu19l0ATKITdGw3BZ+WvDIkSOBlQcPHqRatWoF7/fu3UszZsyg/Pnz07///kvVqlWjCRMmEB9sHR5zTJ06lcaNG2e5t/+ZB4LEIkzmjezRowd9/vnngSGXL1+mZHbv8sEODRo0COrv2rUry3vzHia2AASxNTIW2bV582Zq1apVYNHZs2epTJkySVu4ePFiGjBgQFAvDlO9GIMkHeb0qxAmx8aNG1MiB6PWv39/Cp+8OHz4cOvBRAaxPkRmDRw9ejTNnDlTGNGhQwclq+BxegIRGcRs+7Neu08ONlTVFpEXX3wx8Du8um4jGMggNkbFEpvCq+TckOfOnavMsrhkEWQQZSF3T1D4l2pVkoORGjZsWADY+++/by14IIi1oTFr2Jw5cwID+GedVZfZs2cHInmx0daCLpatkTFsFx/AwGsdXHRNx3bs2JHWrFmjVYcsjCCILIKW1+fGzT9PwM9qnD9/Xhzwxn+3bt0KLOfxAK988+fXr18XxODVbr9MnjyZeEs7HxDHBzPwz6ylShrWxVvjWQaTY8WKFUINk6VPnz509erVuyJapEgRqlChAtWuXZvq1aunH33+jUIU9xDwtnxkFixYMJMTgMt/3t6uTG+VXlsAkUH034Mi1bBq1Srq3LlzpDptUNapUydi31UXEEQ1ogbl9ezZk/h5i3Bp164d1a9fX3ShuHAXh7tJ/J67Odx14u6Sl23yZDnX4y5STieY3Lx5U8jL/j1/Fu7WZVeWbJeNfeB1md27d2cRleo2mJycB0Hy1Czsv4jvoKtXrw4M7d27N3366af2Gy5p4U8//URt27YlJqZfLly4QCVLlpSU/F91EEQJjGaFTJ8+nV544YXACN5enpGRYdaoiLU3btyYtm/fHmhNNiMhg0QcsKjUcbcl3D367bffsmwIjMoOG/SEn1dRlUGxUGhDZCVs6NKlS1D79ddfT1tyMAiHDx8OsFi6dCkdPXpUAll0saTBs0FAXPY0RYXVvHnzaOjQoUIdHw6RfdIiWTuQQZJFzKLrp0yZElgTfm2RiZGbEt4dHH4CMlVDQJBUkbOg3rp16wIrBg4caIFFdpig8mAIEMSOmKZkBR+O4Jfq1aunJMPFSnwskaoCgqhCEnKcRAAEcTKs6e1U+Id8/DODU0UEBEkVOdSzFoFw19Pfsp+qsSBIqsihnrUIhDMICGJtmGCYKQR4E6Zfcnu+JDcbkUFyQwjfxw6B8OJpeBNjKo6AIKmghjpWIxAmyI0bN6RsBUGk4ENlGxEId7H4EWKZAoLIoIe6ViIQziCY5rUyRDDKJAJhgtztKca82IgMkheUcE2sEABBYhUuGBs1AuGFQnSxokYf+qxHIDxIB0GsDxcMjBqBcAaRfTYdY5Coowd92hEIZxAQRDvcUBA3BJBB4hYx2BspAuFZLP/AvFQNQBcrVeRQz1oEVB5kAYJYG2YYlioCyCCpIod6aYEAMkhahBlOpooACJIqcqiXdghgmjftQg6Hc0MAY5DcEML3aY0AulhpHX44nxsCyCC5IYTvgYAiBLAOoghIiLEHgZx+Hi4VC0GQVFBDHasRAEGsDg+MM40ACGI6ApbpV9kgLHMtJXNU4oEuVkohsKuSygZhl2epWaMSDxAktRhYVSv8gJBVhjlgDAjiQBBV3jEdgINU3jBAEAdaBAiiL4ggiD5sI5MMgmSFWiUeIEhkzVifIpVdCn1WmpGM3bxmcLdKq8o7plWOpWiMSjyQQVIMgk3VVDYIm/yywRYQxIYoSNoAgmAMItmE3K6OMYi++CKD6MM2MskgiD6oQRB92EYmGV0sfVCDIPqwjUwyCKIPahBEH7aQbAgBlTcMEMRQEFWqVdkgVNplSpZKPEAQU1GE3lggAILEIkx3N1LlHdMBOLK4gK0mrkUU/liFADKIVeGIvzE3b96kK1eu0IULF+j06dN048aNwKnly5fT1KlTafv27Uoc/fbbb2ny5Mm0efNmJfISCQFBtEGbfoK3bdtGhQoVorJly1Lp0qWpfPnydO+999JDDz0kwHj22WdpwoQJ9NFHHykBZ9KkSTRx4kSaOXOmEnkgiDYYIZgRuHXrlgDi2rVrVK9ePWrdurXIIDt37qSXX36ZKlSoIL4vWrRoFsAOHjxIicYKp06dEtkoezlz5oz4qGDBguI/k1JXQQbRhWyEcm0ZpIe7U5988glt2LAhQOHvv/8m/+fQfDIMGjSIihQpQrVr1xb/27VrR3zdvHnzqESJElSpUiWRgR544AHi7PTdd98R+1quXDmqWLFiID+sVzXsIIhqRNNYXrihdujQgapXrx6g0bt3bzp//rx4zw2cu1oLFy6k69ev06OPPioyzQ8//CCyzNChQ+ny5cvUqFEjQZxDhw5RkyZNiGX6pWTJkqIuFxAkjRtdnFwPN9SzZ8/SsWPHAvO5G8XZgAtnAR6sc+nRowetW7eOZs+encXVAgUKiKxx6dKlOyDYu3cv7du3L/icJwbCRWVGRQaJUwvMwVaVDUIGjjBB5s+fL8YVXbp0ESJHjBhBBw4cEK/37NkTqGnfvr14PWDAgCyqu3fvHpApu01169YVH7Vp00b898c+MrbnVBcE0YFqxDJtIUj4J5d5FosLjyX8cvXqVfGyYcOGwWdfffWVeJ19Jmrp0qXi80TdJ39a98cffwRBIm5rsVRnC0EKFy4c4NerVy8xu7RkyRLxGd/1q1SpIl7z+GLRokXi9Zo1a8QgfPz48XdgzyQLE8y/gGfHeAySnXg6gocMogPVNJX5+OOPi0E1//FAnAfpGRkZYtDN44YWLVoIZHggPnDgQDH1y6T5888/qUaNGtSnTx/RLeMxCU8T82Ijv2/ZsiXxmOaPP/6gOnXqiM9q1qxJHTt2pFKlSgnyaSueMpSYIuDN6mR6DSPTmw61yoOLFy9meuOChDadO3fujs/5+kSFr030XViGN0C/o+rq1asFLvz38ccfS2GDDKLt1pO+grlblD9//oQA+GOT8JeJulH8fU5drLAMnu3SWUAQnehCduwRAEFiH8L/1hVQ/o+ASjxAELQsKxDYvXs3/frrr1bYEjYCBLEuJMkbJHvH5PEC73uqVauWmE164okn6N1339W2APfFF1/QrFmziLerc3nvvffE2kjz5s2Td153DakhPiobRcCfxfKmSqXs8Gd8Ev33dtNKyU5UuWfPnmKGqWrVquJrb0tKprdRMdNbGVeiy1tbwSyW7htHOsrn7SG8XjFq1KjA/WrVqonX/B3vuuUM06BBA1q1apXIAJx1eFcuZwTOQnzN0aNH6ZtvvqH777+fuD6vhzRr1kxsMZk7dy599tlnQuZff/0l1kl4mwlfy2scfhk7dqxYI+G6vL7CGx35eZL69evTK6+8Qs8884zQ17hx44T7tZTFTwllIcQIAqoziLedPPDj6aefDu7C3k7a4HU4y3hTrAk/52u8bp/4zmvQmd40bo7XZc9abABnlrtltezfeQ9mZcF/7dq1yCDK7hBpLohXpf0S3hUb3i/1+++/i0t4RZyvb9u2rXgf3iToNUqxfd0vr732Gm3dulVsNVm2bFnwOa+WP/zww8F7ljd69Ojg/S+//CIyC5eVK1cmfJCKv+NV9r59+4rr+BkSXQWDdF3IxlBumCyHDx++w4PBgweLz7iRZy+PPfYY9evXL/j4rbfeEoNufo6Dt4T4pXLlytSqVSvxlh/J5eI/aciTBUwqv/g7gTt37pxFHW8t4b1YXbt21Y4yCKId4vgo4LEDlxUrVtCcOXPuMJwPYeDCe6cSlfCjr8ePHxeXjBkzJksW4D1VTBIunAW4+CvjvBs40ao678EKF/8aHv/oLiCIboRjJJ8H5/woa7du3QKrvX1NwWt+KpDv6m+88UYWr3LaVsIX8QNPvDHRL94+KipWrJh4y1vZObtMnz5dvOcM1r9//+BaJtKTTz5J+/fvT6jPzzzZIQ5nQmn4jYwuoVQJAioG6bzZj9tm+I8H1d6sU6Y3oyXs9DJHptdYs1zD348cOVJ8xt/5Jbssfs/yPBKJa4cNGyYuLVOmTMKBOH/njVuCQb4vz5vByuTpbH7vzXoJGd6hDoGMMKAqp3nzsWBplkGAEQQeeeQRMdXKd1q/S5OKITz9ylvUuSlwN8lrvFS8ePE7RPF1//zzj9jKztO5XPhRWt5yzkf9cOEBNm8g5JNN+AEpzhIPPvigmKblwTQ/++GfRnLkyBHxm+a80Ml1+L+fFfiZEX8cxKegcHeKTzjhOizD787xySdcOPP5hScMeLGTi7ebN+GYKa84gSB5RcrC61QRxELXpExSSRCMQaRCgcquIwCCOBBh9JL1BREE0YctJDuAAAjiQBDhgj4EQBB92EKyIQRUdjlBEENBhNp4IACCxCNOd7VS5R3TATiUugCCKIUTwlxDAARxIKLIIPqCCILowzYyySCIPqhBEH3YQrIDCIAgDgQRLuhDAATRhy0kO4AACOJAEDEG0RdEEEQftpDsAAIgiANBhAv6EABB9GELyQ4gAII4EES4oA8BEEQftpFJxiA9K9RhPGQP9gZBImvG+hSFf11Wn5b0lAyCOBB3ZBB9QQRB9GEbmWQQRB/UIIg+bCOTDILogxoE0YdtZJIxBtEHNQiiD9vIJCOD6IMaBNGHbWSSQRB9UIMg+rCNTDIIog9qEEQftpFJBkH0QQ2C6MM2MskgiD6oQRB92EYmGbNY+qAGQfRhG5lkZBB9UIMg+rCNTDIIkjPU2KwYWTO0VxEIoi82yCD6sI1MMsYg+qAGQfRhC8mGEFCZUUEQQ0GEWn0IqMyoIIi+OEGyIQTwRKEh4KE2HgiAIPGIE6w0hECYIPw77DJFrraMZtQFApoQCI9BsA6iCWSIjS8C6GLFN3awPAIEQJAIQIaK+CIAgsQ3drA8AgRAkAhAhor4IoBBenxjB8sjQADTvBGADBVuIIBpXjfiCC8UInDr1q1AGgiiEFiIcgOBMEEKFCgg5RRW0qXgQ2UbEQgTJH/+/FImgiBS8KGyjQggg9gYFdhkDQK3b98ObEEXy5qwwBBbEAivg4AgtkQFdliDADKINaGAITYiEF4oRAaxMUKwySgCGKQbhR/KbUfgxo0bgYlFihSRMhfTvFLwobKNCNy8eTMwq2jRolImgiBS8KGyjQiEZ7GKFy8uZSIIIgUfKtuIQLiLVaJECSkTQRAp+MxWVnmCoFlP1Go/deqUMoEgiDIooxcUPtLm7Nmz0RtgqcZDhw4pswwEUQZl9II6duwYKF20aFH0Bliq8fvvv1dmWT4vTWcqkwZBkSPgP+9QtmxZOn36dOT6bVO4e/duatiwoTCrVatWtHHjRikTkUGk4DNfuUWLFsKIM2fO0IIFC8wbZNiCRo0aBRa8/fbb0tYgg0hDaFbAyZMnqXLlyoERfAetX7++WaMMae/duzctW7ZMaOcssnPnTmlLkEGkITQroFKlSvTcc88FRjRo0IA2bdpk1igD2ocMGRKQg9Xv2LFDjRU8BkGJPwLt27fnsWTwN2bMmPg7lQcPTpw4kVm1atUsvm/bti0PNfN2CbpYau4zVkjp3LkzrVq1Kost3bp1o06dOlGtWrWoUKFCxHuTeHqYd7nyHw/yw695zoav80vBggVJZh6H6/LmQX8ygd/zVpDw+/DmQtZ7/fp1UYev8/8uXbpE/Hf58mXibuX+/fvp2LFjtH79+iz+/vzzz+SPy1QEBQRRgaJFMqZNm0bjx4+3yKJoTKlXrx5t3ryZSpcurVQhxiBK4TQvbNy4ceJOO3z4cJEpXC81a9akL7/8kvbs2aOcHIwdMojjLYi7ILzKfvXqVeI9Stx1CXdfwu/5STzu0jCxvH48rV69OhJ0mjRpIrqBbIvf3eOunf+au3z+e/5frFgx0VVs2rQp1ahRQ6uNIIhWeOMrfPHixTRgwIBIHHjppZfo1VdfjURXskrcz8HJIoLrBQJXrlyJDIkodSXrFAiSLGK4Pq0QAEHSKtx5d1b2UdW8ayIxnrC1YAxia2QM2LVv3z7q168f8RN5586dI5Xbxu/mDm+05HUaHnxPmTKF2rRpY8D7xCpBEGtCYd4Q2ZPQVXnAs1myZ+qqsgVdLFVIxlxO+KAD0658/fXXpk0I9IMg1oTCrCG8vmBL4a0mthR0sWyJhAV22NLF4jGQLbYgg1jQMG0x4ejRo9S/f3/ifU1RziwxGerUqUO82XLLli3WkIPjggxiS+u0zI4ZM2bQ888/H4lVffv2pSVLlkSiK1klyCDJIpYm10e5uh0+6M02eEEQ2yJiiT2yp6In4wavf9haQBBbI2PYrijHIIULFzbsbc7qQRBrQ2PWMNkzbZOxHgRJBi1cawUCsmfaJuNElNkqGbv4WmSQZBFLk+ujJIjsTxToDAkIohPdGMsuX758ZNbLHAqh20gQRDfCMZXPu2ujKhUrVoxKVdJ6sFCYNGTpUyGq7R78rLxNe8HCEUYGSZ/2nrSnBw8eTLpOshUWLlxoLTnYF2SQZCOaZtfzSScffPAB7dq1i44fPy5OPeFSsmRJ+vDDD/OEBh/Nk5GRIU5W4axUoUIF4kOmu3fvTlWqVMmTDFMXgSCmkHdAb167YCNHjqRZs2bF0mN0sWIZtngZzQfZxbWAIHGNHOyOBAEQJBKYoSSuCIAgcY0c7I4EARAkEpihJK4IgCBxjVyM7I7zKfMgSIwaWlxNzet0sI3+gSA2RsUxm0AQxwIKd9QiYPMjtbl5igySG0L4XhqBKJ8tkTY2mwAQRDWiaSSvevXqefKW917FtWAvVlwjZ4HdK1eupK5du+Zqic0PROVmPDJIbgjh+xwReOqpp2jevHk5fn/fffeJ30eMcwFB4hw9C2wfPHiw+B31pUuXBtYMGjSILl68SGfOnKEyZcpYYGXqJoAgqWOHmiEEmjVrFrxr2LAhxXlgHg4sCIJmrgQBfmzWLzb91oiscyCILIKo7zQCIIjT4YVzsgiAILIIor7TCIAgTocXzskiAILIIoj6TiMAgjgdXjgniwAIIosg6juNAAjidHjhnCwCIIgsgqjvNAIgiNPhhXOyCIAgsgiivtMIgCBOhxfOySIAgsgiiPpOIwCCOB1eOCeLAAgiiyDqO40ACOJ0eOGcLAIgiCyCqO80AiCI0+GFc7IIgCCyCKK+0wiAIE6HF87JIgCCyCKI+k4jAII4HV44J4sACCKLIOo7jQAI4nR44ZwsAiCILIKo7zQCIIjT4YVzsgiAILIIor7TCIAgTocXzskiAILIIoj6TiMAgjgdXjgniwAIIosg6juNAAjidHjhnCwCIIgsgqjvNAIgiNPhhXOyCIAgsgiivtMIgCBOhxfOySIAgsgiiPpOIwCCOB1eOCeLAAgiiyDqO40ACOJ0eOGcLAIgiCyCqO80AiCI0+GFc7IIgCCyCKK+0wiAIE6HF87JIgCCyCKI+k4j8D9twuTfRgPL+wAAAABJRU5ErkJggg==)\n",
    "Blood transfusion saves lives - from replacing lost blood during major surgery or a serious injury to treating various illnesses and blood disorders. Ensuring that there's enough blood in supply whenever needed is a serious challenge for the health professionals. According to WebMD \"about 5 million Americans need a blood transfusion every year\".\n"
   ]
  },
  {
   "cell_type": "code",
   "execution_count": 23,
   "metadata": {
    "colab": {
     "base_uri": "https://localhost:8080/",
     "height": 72,
     "resources": {
      "http://localhost:8080/nbextensions/google.colab/files.js": {
       "data": "Ly8gQ29weXJpZ2h0IDIwMTcgR29vZ2xlIExMQwovLwovLyBMaWNlbnNlZCB1bmRlciB0aGUgQXBhY2hlIExpY2Vuc2UsIFZlcnNpb24gMi4wICh0aGUgIkxpY2Vuc2UiKTsKLy8geW91IG1heSBub3QgdXNlIHRoaXMgZmlsZSBleGNlcHQgaW4gY29tcGxpYW5jZSB3aXRoIHRoZSBMaWNlbnNlLgovLyBZb3UgbWF5IG9idGFpbiBhIGNvcHkgb2YgdGhlIExpY2Vuc2UgYXQKLy8KLy8gICAgICBodHRwOi8vd3d3LmFwYWNoZS5vcmcvbGljZW5zZXMvTElDRU5TRS0yLjAKLy8KLy8gVW5sZXNzIHJlcXVpcmVkIGJ5IGFwcGxpY2FibGUgbGF3IG9yIGFncmVlZCB0byBpbiB3cml0aW5nLCBzb2Z0d2FyZQovLyBkaXN0cmlidXRlZCB1bmRlciB0aGUgTGljZW5zZSBpcyBkaXN0cmlidXRlZCBvbiBhbiAiQVMgSVMiIEJBU0lTLAovLyBXSVRIT1VUIFdBUlJBTlRJRVMgT1IgQ09ORElUSU9OUyBPRiBBTlkgS0lORCwgZWl0aGVyIGV4cHJlc3Mgb3IgaW1wbGllZC4KLy8gU2VlIHRoZSBMaWNlbnNlIGZvciB0aGUgc3BlY2lmaWMgbGFuZ3VhZ2UgZ292ZXJuaW5nIHBlcm1pc3Npb25zIGFuZAovLyBsaW1pdGF0aW9ucyB1bmRlciB0aGUgTGljZW5zZS4KCi8qKgogKiBAZmlsZW92ZXJ2aWV3IEhlbHBlcnMgZm9yIGdvb2dsZS5jb2xhYiBQeXRob24gbW9kdWxlLgogKi8KKGZ1bmN0aW9uKHNjb3BlKSB7CmZ1bmN0aW9uIHNwYW4odGV4dCwgc3R5bGVBdHRyaWJ1dGVzID0ge30pIHsKICBjb25zdCBlbGVtZW50ID0gZG9jdW1lbnQuY3JlYXRlRWxlbWVudCgnc3BhbicpOwogIGVsZW1lbnQudGV4dENvbnRlbnQgPSB0ZXh0OwogIGZvciAoY29uc3Qga2V5IG9mIE9iamVjdC5rZXlzKHN0eWxlQXR0cmlidXRlcykpIHsKICAgIGVsZW1lbnQuc3R5bGVba2V5XSA9IHN0eWxlQXR0cmlidXRlc1trZXldOwogIH0KICByZXR1cm4gZWxlbWVudDsKfQoKLy8gTWF4IG51bWJlciBvZiBieXRlcyB3aGljaCB3aWxsIGJlIHVwbG9hZGVkIGF0IGEgdGltZS4KY29uc3QgTUFYX1BBWUxPQURfU0laRSA9IDEwMCAqIDEwMjQ7CgpmdW5jdGlvbiBfdXBsb2FkRmlsZXMoaW5wdXRJZCwgb3V0cHV0SWQpIHsKICBjb25zdCBzdGVwcyA9IHVwbG9hZEZpbGVzU3RlcChpbnB1dElkLCBvdXRwdXRJZCk7CiAgY29uc3Qgb3V0cHV0RWxlbWVudCA9IGRvY3VtZW50LmdldEVsZW1lbnRCeUlkKG91dHB1dElkKTsKICAvLyBDYWNoZSBzdGVwcyBvbiB0aGUgb3V0cHV0RWxlbWVudCB0byBtYWtlIGl0IGF2YWlsYWJsZSBmb3IgdGhlIG5leHQgY2FsbAogIC8vIHRvIHVwbG9hZEZpbGVzQ29udGludWUgZnJvbSBQeXRob24uCiAgb3V0cHV0RWxlbWVudC5zdGVwcyA9IHN0ZXBzOwoKICByZXR1cm4gX3VwbG9hZEZpbGVzQ29udGludWUob3V0cHV0SWQpOwp9CgovLyBUaGlzIGlzIHJvdWdobHkgYW4gYXN5bmMgZ2VuZXJhdG9yIChub3Qgc3VwcG9ydGVkIGluIHRoZSBicm93c2VyIHlldCksCi8vIHdoZXJlIHRoZXJlIGFyZSBtdWx0aXBsZSBhc3luY2hyb25vdXMgc3RlcHMgYW5kIHRoZSBQeXRob24gc2lkZSBpcyBnb2luZwovLyB0byBwb2xsIGZvciBjb21wbGV0aW9uIG9mIGVhY2ggc3RlcC4KLy8gVGhpcyB1c2VzIGEgUHJvbWlzZSB0byBibG9jayB0aGUgcHl0aG9uIHNpZGUgb24gY29tcGxldGlvbiBvZiBlYWNoIHN0ZXAsCi8vIHRoZW4gcGFzc2VzIHRoZSByZXN1bHQgb2YgdGhlIHByZXZpb3VzIHN0ZXAgYXMgdGhlIGlucHV0IHRvIHRoZSBuZXh0IHN0ZXAuCmZ1bmN0aW9uIF91cGxvYWRGaWxlc0NvbnRpbnVlKG91dHB1dElkKSB7CiAgY29uc3Qgb3V0cHV0RWxlbWVudCA9IGRvY3VtZW50LmdldEVsZW1lbnRCeUlkKG91dHB1dElkKTsKICBjb25zdCBzdGVwcyA9IG91dHB1dEVsZW1lbnQuc3RlcHM7CgogIGNvbnN0IG5leHQgPSBzdGVwcy5uZXh0KG91dHB1dEVsZW1lbnQubGFzdFByb21pc2VWYWx1ZSk7CiAgcmV0dXJuIFByb21pc2UucmVzb2x2ZShuZXh0LnZhbHVlLnByb21pc2UpLnRoZW4oKHZhbHVlKSA9PiB7CiAgICAvLyBDYWNoZSB0aGUgbGFzdCBwcm9taXNlIHZhbHVlIHRvIG1ha2UgaXQgYXZhaWxhYmxlIHRvIHRoZSBuZXh0CiAgICAvLyBzdGVwIG9mIHRoZSBnZW5lcmF0b3IuCiAgICBvdXRwdXRFbGVtZW50Lmxhc3RQcm9taXNlVmFsdWUgPSB2YWx1ZTsKICAgIHJldHVybiBuZXh0LnZhbHVlLnJlc3BvbnNlOwogIH0pOwp9CgovKioKICogR2VuZXJhdG9yIGZ1bmN0aW9uIHdoaWNoIGlzIGNhbGxlZCBiZXR3ZWVuIGVhY2ggYXN5bmMgc3RlcCBvZiB0aGUgdXBsb2FkCiAqIHByb2Nlc3MuCiAqIEBwYXJhbSB7c3RyaW5nfSBpbnB1dElkIEVsZW1lbnQgSUQgb2YgdGhlIGlucHV0IGZpbGUgcGlja2VyIGVsZW1lbnQuCiAqIEBwYXJhbSB7c3RyaW5nfSBvdXRwdXRJZCBFbGVtZW50IElEIG9mIHRoZSBvdXRwdXQgZGlzcGxheS4KICogQHJldHVybiB7IUl0ZXJhYmxlPCFPYmplY3Q+fSBJdGVyYWJsZSBvZiBuZXh0IHN0ZXBzLgogKi8KZnVuY3Rpb24qIHVwbG9hZEZpbGVzU3RlcChpbnB1dElkLCBvdXRwdXRJZCkgewogIGNvbnN0IGlucHV0RWxlbWVudCA9IGRvY3VtZW50LmdldEVsZW1lbnRCeUlkKGlucHV0SWQpOwogIGlucHV0RWxlbWVudC5kaXNhYmxlZCA9IGZhbHNlOwoKICBjb25zdCBvdXRwdXRFbGVtZW50ID0gZG9jdW1lbnQuZ2V0RWxlbWVudEJ5SWQob3V0cHV0SWQpOwogIG91dHB1dEVsZW1lbnQuaW5uZXJIVE1MID0gJyc7CgogIGNvbnN0IHBpY2tlZFByb21pc2UgPSBuZXcgUHJvbWlzZSgocmVzb2x2ZSkgPT4gewogICAgaW5wdXRFbGVtZW50LmFkZEV2ZW50TGlzdGVuZXIoJ2NoYW5nZScsIChlKSA9PiB7CiAgICAgIHJlc29sdmUoZS50YXJnZXQuZmlsZXMpOwogICAgfSk7CiAgfSk7CgogIGNvbnN0IGNhbmNlbCA9IGRvY3VtZW50LmNyZWF0ZUVsZW1lbnQoJ2J1dHRvbicpOwogIGlucHV0RWxlbWVudC5wYXJlbnRFbGVtZW50LmFwcGVuZENoaWxkKGNhbmNlbCk7CiAgY2FuY2VsLnRleHRDb250ZW50ID0gJ0NhbmNlbCB1cGxvYWQnOwogIGNvbnN0IGNhbmNlbFByb21pc2UgPSBuZXcgUHJvbWlzZSgocmVzb2x2ZSkgPT4gewogICAgY2FuY2VsLm9uY2xpY2sgPSAoKSA9PiB7CiAgICAgIHJlc29sdmUobnVsbCk7CiAgICB9OwogIH0pOwoKICAvLyBXYWl0IGZvciB0aGUgdXNlciB0byBwaWNrIHRoZSBmaWxlcy4KICBjb25zdCBmaWxlcyA9IHlpZWxkIHsKICAgIHByb21pc2U6IFByb21pc2UucmFjZShbcGlja2VkUHJvbWlzZSwgY2FuY2VsUHJvbWlzZV0pLAogICAgcmVzcG9uc2U6IHsKICAgICAgYWN0aW9uOiAnc3RhcnRpbmcnLAogICAgfQogIH07CgogIGNhbmNlbC5yZW1vdmUoKTsKCiAgLy8gRGlzYWJsZSB0aGUgaW5wdXQgZWxlbWVudCBzaW5jZSBmdXJ0aGVyIHBpY2tzIGFyZSBub3QgYWxsb3dlZC4KICBpbnB1dEVsZW1lbnQuZGlzYWJsZWQgPSB0cnVlOwoKICBpZiAoIWZpbGVzKSB7CiAgICByZXR1cm4gewogICAgICByZXNwb25zZTogewogICAgICAgIGFjdGlvbjogJ2NvbXBsZXRlJywKICAgICAgfQogICAgfTsKICB9CgogIGZvciAoY29uc3QgZmlsZSBvZiBmaWxlcykgewogICAgY29uc3QgbGkgPSBkb2N1bWVudC5jcmVhdGVFbGVtZW50KCdsaScpOwogICAgbGkuYXBwZW5kKHNwYW4oZmlsZS5uYW1lLCB7Zm9udFdlaWdodDogJ2JvbGQnfSkpOwogICAgbGkuYXBwZW5kKHNwYW4oCiAgICAgICAgYCgke2ZpbGUudHlwZSB8fCAnbi9hJ30pIC0gJHtmaWxlLnNpemV9IGJ5dGVzLCBgICsKICAgICAgICBgbGFzdCBtb2RpZmllZDogJHsKICAgICAgICAgICAgZmlsZS5sYXN0TW9kaWZpZWREYXRlID8gZmlsZS5sYXN0TW9kaWZpZWREYXRlLnRvTG9jYWxlRGF0ZVN0cmluZygpIDoKICAgICAgICAgICAgICAgICAgICAgICAgICAgICAgICAgICAgJ24vYSd9IC0gYCkpOwogICAgY29uc3QgcGVyY2VudCA9IHNwYW4oJzAlIGRvbmUnKTsKICAgIGxpLmFwcGVuZENoaWxkKHBlcmNlbnQpOwoKICAgIG91dHB1dEVsZW1lbnQuYXBwZW5kQ2hpbGQobGkpOwoKICAgIGNvbnN0IGZpbGVEYXRhUHJvbWlzZSA9IG5ldyBQcm9taXNlKChyZXNvbHZlKSA9PiB7CiAgICAgIGNvbnN0IHJlYWRlciA9IG5ldyBGaWxlUmVhZGVyKCk7CiAgICAgIHJlYWRlci5vbmxvYWQgPSAoZSkgPT4gewogICAgICAgIHJlc29sdmUoZS50YXJnZXQucmVzdWx0KTsKICAgICAgfTsKICAgICAgcmVhZGVyLnJlYWRBc0FycmF5QnVmZmVyKGZpbGUpOwogICAgfSk7CiAgICAvLyBXYWl0IGZvciB0aGUgZGF0YSB0byBiZSByZWFkeS4KICAgIGxldCBmaWxlRGF0YSA9IHlpZWxkIHsKICAgICAgcHJvbWlzZTogZmlsZURhdGFQcm9taXNlLAogICAgICByZXNwb25zZTogewogICAgICAgIGFjdGlvbjogJ2NvbnRpbnVlJywKICAgICAgfQogICAgfTsKCiAgICAvLyBVc2UgYSBjaHVua2VkIHNlbmRpbmcgdG8gYXZvaWQgbWVzc2FnZSBzaXplIGxpbWl0cy4gU2VlIGIvNjIxMTU2NjAuCiAgICBsZXQgcG9zaXRpb24gPSAwOwogICAgd2hpbGUgKHBvc2l0aW9uIDwgZmlsZURhdGEuYnl0ZUxlbmd0aCkgewogICAgICBjb25zdCBsZW5ndGggPSBNYXRoLm1pbihmaWxlRGF0YS5ieXRlTGVuZ3RoIC0gcG9zaXRpb24sIE1BWF9QQVlMT0FEX1NJWkUpOwogICAgICBjb25zdCBjaHVuayA9IG5ldyBVaW50OEFycmF5KGZpbGVEYXRhLCBwb3NpdGlvbiwgbGVuZ3RoKTsKICAgICAgcG9zaXRpb24gKz0gbGVuZ3RoOwoKICAgICAgY29uc3QgYmFzZTY0ID0gYnRvYShTdHJpbmcuZnJvbUNoYXJDb2RlLmFwcGx5KG51bGwsIGNodW5rKSk7CiAgICAgIHlpZWxkIHsKICAgICAgICByZXNwb25zZTogewogICAgICAgICAgYWN0aW9uOiAnYXBwZW5kJywKICAgICAgICAgIGZpbGU6IGZpbGUubmFtZSwKICAgICAgICAgIGRhdGE6IGJhc2U2NCwKICAgICAgICB9LAogICAgICB9OwogICAgICBwZXJjZW50LnRleHRDb250ZW50ID0KICAgICAgICAgIGAke01hdGgucm91bmQoKHBvc2l0aW9uIC8gZmlsZURhdGEuYnl0ZUxlbmd0aCkgKiAxMDApfSUgZG9uZWA7CiAgICB9CiAgfQoKICAvLyBBbGwgZG9uZS4KICB5aWVsZCB7CiAgICByZXNwb25zZTogewogICAgICBhY3Rpb246ICdjb21wbGV0ZScsCiAgICB9CiAgfTsKfQoKc2NvcGUuZ29vZ2xlID0gc2NvcGUuZ29vZ2xlIHx8IHt9OwpzY29wZS5nb29nbGUuY29sYWIgPSBzY29wZS5nb29nbGUuY29sYWIgfHwge307CnNjb3BlLmdvb2dsZS5jb2xhYi5fZmlsZXMgPSB7CiAgX3VwbG9hZEZpbGVzLAogIF91cGxvYWRGaWxlc0NvbnRpbnVlLAp9Owp9KShzZWxmKTsK",
       "headers": [
        [
         "content-type",
         "application/javascript"
        ]
       ],
       "ok": true,
       "status": 200,
       "status_text": ""
      }
     }
    },
    "dc": {
     "key": "3"
    },
    "id": "4YkIK8DLvfHI",
    "outputId": "637c60b0-da23-4756-815a-3d18e4366c13",
    "tags": [
     "sample_code"
    ]
   },
   "outputs": [
    {
     "data": {
      "text/html": [
       "\n",
       "     <input type=\"file\" id=\"files-f6fa44d6-8dde-4c9c-b0f8-546a4c8024e4\" name=\"files[]\" multiple disabled\n",
       "        style=\"border:none\" />\n",
       "     <output id=\"result-f6fa44d6-8dde-4c9c-b0f8-546a4c8024e4\">\n",
       "      Upload widget is only available when the cell has been executed in the\n",
       "      current browser session. Please rerun this cell to enable.\n",
       "      </output>\n",
       "      <script src=\"/nbextensions/google.colab/files.js\"></script> "
      ],
      "text/plain": [
       "<IPython.core.display.HTML object>"
      ]
     },
     "metadata": {
      "tags": []
     },
     "output_type": "display_data"
    },
    {
     "name": "stdout",
     "output_type": "stream",
     "text": [
      "Saving transfusion.data to transfusion (1).data\n"
     ]
    }
   ],
   "source": [
    "from google.colab import files\n",
    "uploaded = files.upload()"
   ]
  },
  {
   "cell_type": "markdown",
   "metadata": {
    "dc": {
     "key": "10"
    },
    "deletable": false,
    "editable": false,
    "id": "s7QnVT5FvfHS",
    "run_control": {
     "frozen": true
    },
    "tags": [
     "context"
    ]
   },
   "source": [
    "## 2. Loading the blood donations data\n"
   ]
  },
  {
   "cell_type": "code",
   "execution_count": 24,
   "metadata": {
    "colab": {
     "base_uri": "https://localhost:8080/",
     "height": 419
    },
    "dc": {
     "key": "10"
    },
    "id": "ivzgaLhivfHT",
    "outputId": "cd652292-cb4b-487b-ec05-e662ab8e233f",
    "tags": [
     "sample_code"
    ]
   },
   "outputs": [
    {
     "data": {
      "text/html": [
       "<div>\n",
       "<style scoped>\n",
       "    .dataframe tbody tr th:only-of-type {\n",
       "        vertical-align: middle;\n",
       "    }\n",
       "\n",
       "    .dataframe tbody tr th {\n",
       "        vertical-align: top;\n",
       "    }\n",
       "\n",
       "    .dataframe thead th {\n",
       "        text-align: right;\n",
       "    }\n",
       "</style>\n",
       "<table border=\"1\" class=\"dataframe\">\n",
       "  <thead>\n",
       "    <tr style=\"text-align: right;\">\n",
       "      <th></th>\n",
       "      <th>Recency (months)</th>\n",
       "      <th>Frequency (times)</th>\n",
       "      <th>Monetary (c.c. blood)</th>\n",
       "      <th>Time (months)</th>\n",
       "      <th>whether he/she donated blood in March 2007</th>\n",
       "    </tr>\n",
       "  </thead>\n",
       "  <tbody>\n",
       "    <tr>\n",
       "      <th>0</th>\n",
       "      <td>2</td>\n",
       "      <td>50</td>\n",
       "      <td>12500</td>\n",
       "      <td>98</td>\n",
       "      <td>1</td>\n",
       "    </tr>\n",
       "    <tr>\n",
       "      <th>1</th>\n",
       "      <td>0</td>\n",
       "      <td>13</td>\n",
       "      <td>3250</td>\n",
       "      <td>28</td>\n",
       "      <td>1</td>\n",
       "    </tr>\n",
       "    <tr>\n",
       "      <th>2</th>\n",
       "      <td>1</td>\n",
       "      <td>16</td>\n",
       "      <td>4000</td>\n",
       "      <td>35</td>\n",
       "      <td>1</td>\n",
       "    </tr>\n",
       "    <tr>\n",
       "      <th>3</th>\n",
       "      <td>2</td>\n",
       "      <td>20</td>\n",
       "      <td>5000</td>\n",
       "      <td>45</td>\n",
       "      <td>1</td>\n",
       "    </tr>\n",
       "    <tr>\n",
       "      <th>4</th>\n",
       "      <td>1</td>\n",
       "      <td>24</td>\n",
       "      <td>6000</td>\n",
       "      <td>77</td>\n",
       "      <td>0</td>\n",
       "    </tr>\n",
       "    <tr>\n",
       "      <th>...</th>\n",
       "      <td>...</td>\n",
       "      <td>...</td>\n",
       "      <td>...</td>\n",
       "      <td>...</td>\n",
       "      <td>...</td>\n",
       "    </tr>\n",
       "    <tr>\n",
       "      <th>743</th>\n",
       "      <td>23</td>\n",
       "      <td>2</td>\n",
       "      <td>500</td>\n",
       "      <td>38</td>\n",
       "      <td>0</td>\n",
       "    </tr>\n",
       "    <tr>\n",
       "      <th>744</th>\n",
       "      <td>21</td>\n",
       "      <td>2</td>\n",
       "      <td>500</td>\n",
       "      <td>52</td>\n",
       "      <td>0</td>\n",
       "    </tr>\n",
       "    <tr>\n",
       "      <th>745</th>\n",
       "      <td>23</td>\n",
       "      <td>3</td>\n",
       "      <td>750</td>\n",
       "      <td>62</td>\n",
       "      <td>0</td>\n",
       "    </tr>\n",
       "    <tr>\n",
       "      <th>746</th>\n",
       "      <td>39</td>\n",
       "      <td>1</td>\n",
       "      <td>250</td>\n",
       "      <td>39</td>\n",
       "      <td>0</td>\n",
       "    </tr>\n",
       "    <tr>\n",
       "      <th>747</th>\n",
       "      <td>72</td>\n",
       "      <td>1</td>\n",
       "      <td>250</td>\n",
       "      <td>72</td>\n",
       "      <td>0</td>\n",
       "    </tr>\n",
       "  </tbody>\n",
       "</table>\n",
       "<p>748 rows × 5 columns</p>\n",
       "</div>"
      ],
      "text/plain": [
       "     Recency (months)  ...  whether he/she donated blood in March 2007\n",
       "0                   2  ...                                           1\n",
       "1                   0  ...                                           1\n",
       "2                   1  ...                                           1\n",
       "3                   2  ...                                           1\n",
       "4                   1  ...                                           0\n",
       "..                ...  ...                                         ...\n",
       "743                23  ...                                           0\n",
       "744                21  ...                                           0\n",
       "745                23  ...                                           0\n",
       "746                39  ...                                           0\n",
       "747                72  ...                                           0\n",
       "\n",
       "[748 rows x 5 columns]"
      ]
     },
     "execution_count": 24,
     "metadata": {
      "tags": []
     },
     "output_type": "execute_result"
    }
   ],
   "source": [
    "import pandas as pd\n",
    "import numpy as np\n",
    "transfusion = pd.read_csv('transfusion.data')\n",
    "transfusion"
   ]
  },
  {
   "cell_type": "markdown",
   "metadata": {
    "dc": {
     "key": "17"
    },
    "deletable": false,
    "editable": false,
    "id": "d5zBkGvuvfHZ",
    "run_control": {
     "frozen": true
    },
    "tags": [
     "context"
    ]
   },
   "source": [
    "## 3. Inspecting transfusion DataFrame\n",
    "Let's briefly return to our discussion of RFM model. RFM stands for Recency, Frequency and Monetary Value and it is commonly used in marketing for identifying your best customers. In our case, our customers are blood donors.\n",
    "\n",
    "RFMTC is a variation of the RFM model. Below is a description of what each column means in our dataset:\n",
    "\n",
    "R (Recency - months since the last donation)\n",
    "\n",
    "F (Frequency - total number of donation)\n",
    "\n",
    "M (Monetary - total blood donated in c.c.)\n",
    "\n",
    "T (Time - months since the first donation)\n",
    "\n",
    "A binary variable representing whether he/she donated blood in March 2007 (1 stands for donating blood; 0 stands for not donating blood)\n",
    "\n",
    "It looks like every column in our DataFrame has the numeric type, which is exactly what we want when building a machine learning model. Let's verify our hypothesis."
   ]
  },
  {
   "cell_type": "code",
   "execution_count": 25,
   "metadata": {
    "colab": {
     "base_uri": "https://localhost:8080/",
     "height": 221
    },
    "dc": {
     "key": "17"
    },
    "id": "8pRFZD7QvfHa",
    "outputId": "d4c78d67-7e7f-4fa4-882f-b53b3e46d6ad",
    "tags": [
     "sample_code"
    ]
   },
   "outputs": [
    {
     "name": "stdout",
     "output_type": "stream",
     "text": [
      "<class 'pandas.core.frame.DataFrame'>\n",
      "RangeIndex: 748 entries, 0 to 747\n",
      "Data columns (total 5 columns):\n",
      " #   Column                                      Non-Null Count  Dtype\n",
      "---  ------                                      --------------  -----\n",
      " 0   Recency (months)                            748 non-null    int64\n",
      " 1   Frequency (times)                           748 non-null    int64\n",
      " 2   Monetary (c.c. blood)                       748 non-null    int64\n",
      " 3   Time (months)                               748 non-null    int64\n",
      " 4   whether he/she donated blood in March 2007  748 non-null    int64\n",
      "dtypes: int64(5)\n",
      "memory usage: 29.3 KB\n"
     ]
    }
   ],
   "source": [
    "transfusion.info()"
   ]
  },
  {
   "cell_type": "code",
   "execution_count": 26,
   "metadata": {
    "colab": {
     "base_uri": "https://localhost:8080/",
     "height": 34
    },
    "id": "sufBxzhg8AxW",
    "outputId": "4137d99e-db7c-4262-8b41-35c44c7c5eb8"
   },
   "outputs": [
    {
     "data": {
      "text/plain": [
       "(748, 5)"
      ]
     },
     "execution_count": 26,
     "metadata": {
      "tags": []
     },
     "output_type": "execute_result"
    }
   ],
   "source": [
    "transfusion.shape # To check number of rows and columns"
   ]
  },
  {
   "cell_type": "code",
   "execution_count": 27,
   "metadata": {
    "colab": {
     "base_uri": "https://localhost:8080/",
     "height": 119
    },
    "id": "fzZdJRH48F97",
    "outputId": "83bd74b9-96f7-4d04-8dc7-d7266dc116d0"
   },
   "outputs": [
    {
     "data": {
      "text/plain": [
       "Recency (months)                              0\n",
       "Frequency (times)                             0\n",
       "Monetary (c.c. blood)                         0\n",
       "Time (months)                                 0\n",
       "whether he/she donated blood in March 2007    0\n",
       "dtype: int64"
      ]
     },
     "execution_count": 27,
     "metadata": {
      "tags": []
     },
     "output_type": "execute_result"
    }
   ],
   "source": [
    "transfusion.isnull().sum() # To check null values"
   ]
  },
  {
   "cell_type": "code",
   "execution_count": 28,
   "metadata": {
    "colab": {
     "base_uri": "https://localhost:8080/",
     "height": 68
    },
    "id": "oA4XH3ENQIKb",
    "outputId": "aebb5f3c-f630-41e3-d18e-64409d4af90c"
   },
   "outputs": [
    {
     "data": {
      "text/plain": [
       "Index(['Recency (months)', 'Frequency (times)', 'Monetary (c.c. blood)',\n",
       "       'Time (months)', 'whether he/she donated blood in March 2007'],\n",
       "      dtype='object')"
      ]
     },
     "execution_count": 28,
     "metadata": {
      "tags": []
     },
     "output_type": "execute_result"
    }
   ],
   "source": [
    "transfusion.columns"
   ]
  },
  {
   "cell_type": "markdown",
   "metadata": {
    "dc": {
     "key": "24"
    },
    "deletable": false,
    "editable": false,
    "id": "CcCvLZjKvfHg",
    "run_control": {
     "frozen": true
    },
    "tags": [
     "context"
    ]
   },
   "source": [
    "## 4. Creating target column\n",
    "We are aiming to predict the value in whether he/she donated blood in March 2007 column.\n",
    "\n",
    "Let's rename this it to target so that it's more convenient to work with."
   ]
  },
  {
   "cell_type": "code",
   "execution_count": 29,
   "metadata": {
    "colab": {
     "base_uri": "https://localhost:8080/",
     "height": 204
    },
    "dc": {
     "key": "24"
    },
    "id": "biT1QfLGvfHi",
    "outputId": "1b769612-33e8-4c79-b4ca-06128ffbf0ef",
    "tags": [
     "sample_code"
    ]
   },
   "outputs": [
    {
     "data": {
      "text/html": [
       "<div>\n",
       "<style scoped>\n",
       "    .dataframe tbody tr th:only-of-type {\n",
       "        vertical-align: middle;\n",
       "    }\n",
       "\n",
       "    .dataframe tbody tr th {\n",
       "        vertical-align: top;\n",
       "    }\n",
       "\n",
       "    .dataframe thead th {\n",
       "        text-align: right;\n",
       "    }\n",
       "</style>\n",
       "<table border=\"1\" class=\"dataframe\">\n",
       "  <thead>\n",
       "    <tr style=\"text-align: right;\">\n",
       "      <th></th>\n",
       "      <th>Recency (months)</th>\n",
       "      <th>Frequency (times)</th>\n",
       "      <th>Monetary (c.c. blood)</th>\n",
       "      <th>Time (months)</th>\n",
       "      <th>target</th>\n",
       "    </tr>\n",
       "  </thead>\n",
       "  <tbody>\n",
       "    <tr>\n",
       "      <th>0</th>\n",
       "      <td>2</td>\n",
       "      <td>50</td>\n",
       "      <td>12500</td>\n",
       "      <td>98</td>\n",
       "      <td>1</td>\n",
       "    </tr>\n",
       "    <tr>\n",
       "      <th>1</th>\n",
       "      <td>0</td>\n",
       "      <td>13</td>\n",
       "      <td>3250</td>\n",
       "      <td>28</td>\n",
       "      <td>1</td>\n",
       "    </tr>\n",
       "    <tr>\n",
       "      <th>2</th>\n",
       "      <td>1</td>\n",
       "      <td>16</td>\n",
       "      <td>4000</td>\n",
       "      <td>35</td>\n",
       "      <td>1</td>\n",
       "    </tr>\n",
       "    <tr>\n",
       "      <th>3</th>\n",
       "      <td>2</td>\n",
       "      <td>20</td>\n",
       "      <td>5000</td>\n",
       "      <td>45</td>\n",
       "      <td>1</td>\n",
       "    </tr>\n",
       "    <tr>\n",
       "      <th>4</th>\n",
       "      <td>1</td>\n",
       "      <td>24</td>\n",
       "      <td>6000</td>\n",
       "      <td>77</td>\n",
       "      <td>0</td>\n",
       "    </tr>\n",
       "  </tbody>\n",
       "</table>\n",
       "</div>"
      ],
      "text/plain": [
       "   Recency (months)  Frequency (times)  ...  Time (months)  target\n",
       "0                 2                 50  ...             98       1\n",
       "1                 0                 13  ...             28       1\n",
       "2                 1                 16  ...             35       1\n",
       "3                 2                 20  ...             45       1\n",
       "4                 1                 24  ...             77       0\n",
       "\n",
       "[5 rows x 5 columns]"
      ]
     },
     "execution_count": 29,
     "metadata": {
      "tags": []
     },
     "output_type": "execute_result"
    }
   ],
   "source": [
    "transfusion.rename(columns={'whether he/she donated blood in March 2007': 'target'},inplace=True)\n",
    "transfusion.head()"
   ]
  },
  {
   "cell_type": "markdown",
   "metadata": {
    "dc": {
     "key": "31"
    },
    "deletable": false,
    "editable": false,
    "id": "qw63m3TsvfHn",
    "run_control": {
     "frozen": true
    },
    "tags": [
     "context"
    ]
   },
   "source": [
    "## 5. Checking target incidence\n",
    "We want to predict whether or not the same donor will give blood the next time the vehicle comes to campus. The model for this is a binary classifier, meaning that there are only 2 possible outcomes:</p>\n",
    "\n",
    "0 - the donor will not give blood\n",
    "\n",
    "1 - the donor will give blood\n",
    "\n",
    "Target incidence is defined as the number of cases of each individual target value in a dataset. That is, how many 0s in the target column compared to how many 1s? Target incidence gives us an idea of how balanced (or imbalanced) is our dataset."
   ]
  },
  {
   "cell_type": "code",
   "execution_count": 30,
   "metadata": {
    "colab": {
     "base_uri": "https://localhost:8080/",
     "height": 68
    },
    "dc": {
     "key": "31"
    },
    "id": "7-R_bG9VvfHo",
    "outputId": "29e8a532-0e4d-4a63-9ba4-1811e59567db",
    "tags": [
     "sample_code"
    ]
   },
   "outputs": [
    {
     "data": {
      "text/plain": [
       "0    0.76\n",
       "1    0.24\n",
       "Name: target, dtype: float64"
      ]
     },
     "execution_count": 30,
     "metadata": {
      "tags": []
     },
     "output_type": "execute_result"
    }
   ],
   "source": [
    "transfusion.target.value_counts(normalize=True).round(2)"
   ]
  },
  {
   "cell_type": "markdown",
   "metadata": {
    "dc": {
     "key": "38"
    },
    "deletable": false,
    "editable": false,
    "id": "OeJvBDVivfHv",
    "run_control": {
     "frozen": true
    },
    "tags": [
     "context"
    ]
   },
   "source": [
    "## 6. Splitting transfusion into train and test datasets\n",
    "\n",
    "Target incidence informed us that in our dataset 0's appear 76% of the time and 1's appear 24 %. \n",
    "\n",
    "Now, We create a Train Test split and then move on to prediction."
   ]
  },
  {
   "cell_type": "code",
   "execution_count": 31,
   "metadata": {
    "colab": {
     "base_uri": "https://localhost:8080/",
     "height": 111
    },
    "dc": {
     "key": "38"
    },
    "id": "sw61038GvfHw",
    "outputId": "5b3a03bd-d26c-40ac-c867-5347062fb748",
    "tags": [
     "sample_code"
    ]
   },
   "outputs": [
    {
     "data": {
      "text/html": [
       "<div>\n",
       "<style scoped>\n",
       "    .dataframe tbody tr th:only-of-type {\n",
       "        vertical-align: middle;\n",
       "    }\n",
       "\n",
       "    .dataframe tbody tr th {\n",
       "        vertical-align: top;\n",
       "    }\n",
       "\n",
       "    .dataframe thead th {\n",
       "        text-align: right;\n",
       "    }\n",
       "</style>\n",
       "<table border=\"1\" class=\"dataframe\">\n",
       "  <thead>\n",
       "    <tr style=\"text-align: right;\">\n",
       "      <th></th>\n",
       "      <th>Recency (months)</th>\n",
       "      <th>Frequency (times)</th>\n",
       "      <th>Monetary (c.c. blood)</th>\n",
       "      <th>Time (months)</th>\n",
       "    </tr>\n",
       "  </thead>\n",
       "  <tbody>\n",
       "    <tr>\n",
       "      <th>334</th>\n",
       "      <td>16</td>\n",
       "      <td>2</td>\n",
       "      <td>500</td>\n",
       "      <td>16</td>\n",
       "    </tr>\n",
       "    <tr>\n",
       "      <th>99</th>\n",
       "      <td>5</td>\n",
       "      <td>7</td>\n",
       "      <td>1750</td>\n",
       "      <td>26</td>\n",
       "    </tr>\n",
       "  </tbody>\n",
       "</table>\n",
       "</div>"
      ],
      "text/plain": [
       "     Recency (months)  Frequency (times)  Monetary (c.c. blood)  Time (months)\n",
       "334                16                  2                    500             16\n",
       "99                  5                  7                   1750             26"
      ]
     },
     "execution_count": 31,
     "metadata": {
      "tags": []
     },
     "output_type": "execute_result"
    }
   ],
   "source": [
    "from sklearn.model_selection import train_test_split\n",
    "\n",
    "X_train, X_test, y_train, y_test = train_test_split(\n",
    "    transfusion.drop(columns='target'),\n",
    "    transfusion.target,\n",
    "    test_size=0.25,\n",
    "    random_state=42,\n",
    "    stratify=transfusion.target\n",
    ")\n",
    "\n",
    "X_train.head(2)"
   ]
  },
  {
   "cell_type": "markdown",
   "metadata": {
    "dc": {
     "key": "45"
    },
    "deletable": false,
    "editable": false,
    "id": "t7oymll6vfH2",
    "run_control": {
     "frozen": true
    },
    "tags": [
     "context"
    ]
   },
   "source": [
    "## 7. Selecting model using TPOT\n",
    "![tpot-ml-pipeline.png](data:image/png;base64,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)\n",
    "\n",
    "TPOT is a Python Automated Machine Learning tool that optimizes machine learning pipelines using genetic programming\n",
    "\n",
    "TPOT will automatically explore hundreds of possible pipelines to find the best one for our dataset. Note, the outcome of this search will be a scikit-learn pipeline, meaning it will include any pre-processing steps as well as the model.\n",
    "\n",
    "We are using TPOT to help us zero in on one model that we can then explore and optimize further."
   ]
  },
  {
   "cell_type": "code",
   "execution_count": 32,
   "metadata": {
    "colab": {
     "base_uri": "https://localhost:8080/",
     "height": 343
    },
    "id": "VCd3QHvzH_DJ",
    "outputId": "0be2a23a-a286-4d7e-d79c-36f18fa0fc98"
   },
   "outputs": [
    {
     "name": "stdout",
     "output_type": "stream",
     "text": [
      "Requirement already satisfied: TPOT in /usr/local/lib/python3.6/dist-packages (0.11.5)\n",
      "Requirement already satisfied: numpy>=1.16.3 in /usr/local/lib/python3.6/dist-packages (from TPOT) (1.18.5)\n",
      "Requirement already satisfied: pandas>=0.24.2 in /usr/local/lib/python3.6/dist-packages (from TPOT) (1.1.2)\n",
      "Requirement already satisfied: tqdm>=4.36.1 in /usr/local/lib/python3.6/dist-packages (from TPOT) (4.41.1)\n",
      "Requirement already satisfied: joblib>=0.13.2 in /usr/local/lib/python3.6/dist-packages (from TPOT) (0.16.0)\n",
      "Requirement already satisfied: update-checker>=0.16 in /usr/local/lib/python3.6/dist-packages (from TPOT) (0.18.0)\n",
      "Requirement already satisfied: scikit-learn>=0.22.0 in /usr/local/lib/python3.6/dist-packages (from TPOT) (0.22.2.post1)\n",
      "Requirement already satisfied: stopit>=1.1.1 in /usr/local/lib/python3.6/dist-packages (from TPOT) (1.1.2)\n",
      "Requirement already satisfied: deap>=1.2 in /usr/local/lib/python3.6/dist-packages (from TPOT) (1.3.1)\n",
      "Requirement already satisfied: scipy>=1.3.1 in /usr/local/lib/python3.6/dist-packages (from TPOT) (1.4.1)\n",
      "Requirement already satisfied: python-dateutil>=2.7.3 in /usr/local/lib/python3.6/dist-packages (from pandas>=0.24.2->TPOT) (2.8.1)\n",
      "Requirement already satisfied: pytz>=2017.2 in /usr/local/lib/python3.6/dist-packages (from pandas>=0.24.2->TPOT) (2018.9)\n",
      "Requirement already satisfied: requests>=2.3.0 in /usr/local/lib/python3.6/dist-packages (from update-checker>=0.16->TPOT) (2.23.0)\n",
      "Requirement already satisfied: six>=1.5 in /usr/local/lib/python3.6/dist-packages (from python-dateutil>=2.7.3->pandas>=0.24.2->TPOT) (1.15.0)\n",
      "Requirement already satisfied: chardet<4,>=3.0.2 in /usr/local/lib/python3.6/dist-packages (from requests>=2.3.0->update-checker>=0.16->TPOT) (3.0.4)\n",
      "Requirement already satisfied: urllib3!=1.25.0,!=1.25.1,<1.26,>=1.21.1 in /usr/local/lib/python3.6/dist-packages (from requests>=2.3.0->update-checker>=0.16->TPOT) (1.24.3)\n",
      "Requirement already satisfied: idna<3,>=2.5 in /usr/local/lib/python3.6/dist-packages (from requests>=2.3.0->update-checker>=0.16->TPOT) (2.10)\n",
      "Requirement already satisfied: certifi>=2017.4.17 in /usr/local/lib/python3.6/dist-packages (from requests>=2.3.0->update-checker>=0.16->TPOT) (2020.6.20)\n"
     ]
    }
   ],
   "source": [
    "!pip install TPOT"
   ]
  },
  {
   "cell_type": "code",
   "execution_count": 39,
   "metadata": {
    "colab": {
     "base_uri": "https://localhost:8080/",
     "height": 289,
     "referenced_widgets": [
      "35a96d1dcf534e659a3764f06abc7d0f",
      "10370984a6014e4f9dfb1529b9be8d6a",
      "a61b3e2588a0498d814832ba6cb19115",
      "b73289910057462eb707a33e7617e4d6",
      "3d165c88b7b54d509efb9dbdbe1d4df7",
      "9ae40d481b894696abe7f9d99be0bdc5",
      "859edbc810124d818bcad86ff127fab3",
      "abcd0802fd8f429da62ca343d0985a41"
     ]
    },
    "dc": {
     "key": "45"
    },
    "id": "U__wz20rvfH3",
    "outputId": "49d92a06-c391-46a5-afaa-aef270ff0ade",
    "tags": [
     "sample_code"
    ]
   },
   "outputs": [
    {
     "data": {
      "application/vnd.jupyter.widget-view+json": {
       "model_id": "35a96d1dcf534e659a3764f06abc7d0f",
       "version_major": 2,
       "version_minor": 0
      },
      "text/plain": [
       "HBox(children=(FloatProgress(value=0.0, description='Optimization Progress', max=120.0, style=ProgressStyle(de…"
      ]
     },
     "metadata": {
      "tags": []
     },
     "output_type": "display_data"
    },
    {
     "name": "stdout",
     "output_type": "stream",
     "text": [
      "\n",
      "Generation 1 - Current best internal CV score: 0.7422459184429089\n",
      "Generation 2 - Current best internal CV score: 0.7422459184429089\n",
      "Generation 3 - Current best internal CV score: 0.7422459184429089\n",
      "Generation 4 - Current best internal CV score: 0.7422459184429089\n",
      "Generation 5 - Current best internal CV score: 0.7423330644124079\n",
      "Best pipeline: LogisticRegression(input_matrix, C=0.1, dual=False, penalty=l2)\n",
      "\n",
      "AUC score: 0.7853\n",
      "\n",
      "Best pipeline steps:\n",
      "1. LogisticRegression(C=0.1, class_weight=None, dual=False, fit_intercept=True,\n",
      "                   intercept_scaling=1, l1_ratio=None, max_iter=100,\n",
      "                   multi_class='auto', n_jobs=None, penalty='l2',\n",
      "                   random_state=42, solver='lbfgs', tol=0.0001, verbose=0,\n",
      "                   warm_start=False)\n"
     ]
    }
   ],
   "source": [
    "from tpot import TPOTClassifier\n",
    "from sklearn.metrics import roc_auc_score\n",
    "\n",
    "tpot = TPOTClassifier(\n",
    "    generations=5,\n",
    "    population_size=20,\n",
    "    verbosity=2,\n",
    "    scoring='roc_auc',\n",
    "    random_state=42,\n",
    "    disable_update_check=True,\n",
    "    config_dict='TPOT light'\n",
    ")\n",
    "tpot.fit(X_train, y_train)\n",
    "\n",
    "tpot_auc_score = roc_auc_score(y_test, tpot.predict_proba(X_test)[:, 1])\n",
    "print(f'\\nAUC score: {tpot_auc_score:.4f}')\n",
    "\n",
    "print('\\nBest pipeline steps:', end='\\n')\n",
    "for idx, (name, transform) in enumerate(tpot.fitted_pipeline_.steps, start=1):\n",
    "    \n",
    "    print(f'{idx}. {transform}')"
   ]
  },
  {
   "cell_type": "markdown",
   "metadata": {
    "dc": {
     "key": "52"
    },
    "deletable": false,
    "editable": false,
    "id": "BQbbVVvCvfH8",
    "run_control": {
     "frozen": true
    },
    "tags": [
     "context"
    ]
   },
   "source": [
    "## 8. Checking the variance\n",
    "TPOT picked Logistic Regression as the best model for our dataset with no pre-processing steps, giving us the AUC score of 0.7853. This is a great starting point. Let's see if we can make it better.\n",
    "\n",
    "One of the assumptions for linear regression models is that the data and the features we are giving it are related in a linear fashion, or can be measured with a linear distance metric. If a feature in our dataset has a high variance that's an order of magnitude or more greater than the other features, this could impact the model's ability to learn from other features in the dataset.\n",
    "\n",
    "Correcting for high variance is called normalization. It is one of the possible transformations you do before training a model. Let's check the variance to see if such transformation is needed."
   ]
  },
  {
   "cell_type": "code",
   "execution_count": 34,
   "metadata": {
    "colab": {
     "base_uri": "https://localhost:8080/",
     "height": 102
    },
    "dc": {
     "key": "52"
    },
    "id": "_sxgfjKkvfH9",
    "outputId": "6f23e672-016a-4c8c-ec5b-81a759d5b4fc",
    "tags": [
     "sample_code"
    ]
   },
   "outputs": [
    {
     "data": {
      "text/plain": [
       "Recency (months)              66.93\n",
       "Frequency (times)             33.83\n",
       "Monetary (c.c. blood)    2114363.70\n",
       "Time (months)                611.15\n",
       "dtype: float64"
      ]
     },
     "execution_count": 34,
     "metadata": {
      "tags": []
     },
     "output_type": "execute_result"
    }
   ],
   "source": [
    "X_train.var().round(2)"
   ]
  },
  {
   "cell_type": "markdown",
   "metadata": {
    "dc": {
     "key": "59"
    },
    "deletable": false,
    "editable": false,
    "id": "DOKS_Np1vfIC",
    "run_control": {
     "frozen": true
    },
    "tags": [
     "context"
    ]
   },
   "source": [
    "## 9. Log normalization\n",
    "Monetary (c.c. blood)'s variance is very high in comparison to any other column in the dataset. This means that, unless accounted for, this feature may get more weight by the model (i.e., be seen as more important) than any other feature.\n",
    "\n",
    "One way to correct for high variance is to use log normalization."
   ]
  },
  {
   "cell_type": "code",
   "execution_count": 40,
   "metadata": {
    "colab": {
     "base_uri": "https://localhost:8080/",
     "height": 102
    },
    "dc": {
     "key": "59"
    },
    "id": "L-6BLUsRvfID",
    "outputId": "34fa7533-d9eb-4cb0-a0f7-93a98ce23b5a",
    "tags": [
     "sample_code"
    ]
   },
   "outputs": [
    {
     "data": {
      "text/plain": [
       "Recency (months)      66.93\n",
       "Frequency (times)     33.83\n",
       "Time (months)        611.15\n",
       "Monetary_log           0.84\n",
       "dtype: float64"
      ]
     },
     "execution_count": 40,
     "metadata": {
      "tags": []
     },
     "output_type": "execute_result"
    }
   ],
   "source": [
    "X_train_normed, X_test_normed = X_train.copy(), X_test.copy()\n",
    "col_to_normalize = 'Monetary (c.c. blood)'\n",
    "\n",
    "\n",
    "for df_ in [X_train_normed, X_test_normed]:\n",
    "    df_['Monetary_log'] = np.log(df_[col_to_normalize])\n",
    "    df_.drop(columns=col_to_normalize, inplace=True)\n",
    "\n",
    "X_train_normed.var().round(2)"
   ]
  },
  {
   "cell_type": "markdown",
   "metadata": {
    "dc": {
     "key": "66"
    },
    "deletable": false,
    "editable": false,
    "id": "Su_Sh37cvfIJ",
    "run_control": {
     "frozen": true
    },
    "tags": [
     "context"
    ]
   },
   "source": [
    "## 10. Training the linear regression model\n",
    "The variance looks much better now. Notice that now Time (months) has the largest variance, but it's not the orders of magnitude higher than the rest of the variables, so we'll leave it as is.\n",
    "\n",
    "We are now ready to train the linear regression model."
   ]
  },
  {
   "cell_type": "code",
   "execution_count": 47,
   "metadata": {
    "colab": {
     "base_uri": "https://localhost:8080/",
     "height": 51
    },
    "dc": {
     "key": "66"
    },
    "id": "4Gb8epU8xC0H",
    "outputId": "042ebe2d-2ce3-42cf-cde1-df5191f22d71",
    "tags": [
     "sample_code"
    ]
   },
   "outputs": [
    {
     "name": "stdout",
     "output_type": "stream",
     "text": [
      "\n",
      "AUC score: 0.7868\n"
     ]
    }
   ],
   "source": [
    "# Importing module\n",
    "from sklearn import linear_model\n",
    "\n",
    "logreg = linear_model.LogisticRegression(C=0.1, dual=False, penalty='l2',solver='liblinear',random_state=42)\n",
    "\n",
    "# Train the model\n",
    "logreg.fit(X_train_normed, y_train)\n",
    "\n",
    "\n",
    "logreg_auc_score = roc_auc_score(y_test, logreg.predict_proba(X_test_normed)[:, 1])\n",
    "print(f'\\nAUC score: {logreg_auc_score:.4f}')"
   ]
  },
  {
   "cell_type": "markdown",
   "metadata": {
    "dc": {
     "key": "73"
    },
    "deletable": false,
    "editable": false,
    "id": "RxbIyhIlvfIS",
    "run_control": {
     "frozen": true
    },
    "tags": [
     "context"
    ]
   },
   "source": [
    "## 11. Conclusion\n",
    "The demand for blood fluctuates throughout the year. As one prominent example, blood donations slow down during busy holiday seasons. An accurate forecast for the future supply of blood allows for an appropriate action to be taken ahead of time and therefore saving more lives.\n",
    "\n",
    "<p>In this notebook, we explored automatic model selection using TPOT and AUC score we got was 0.7853. This is better than simply choosing 0 all the time (the target incidence suggests that such a model would have 76% success rate). We then log normalized our training data and improved the AUC score by approx. 1.00% i.e 0.7868 In the field of machine learning, even small improvements in accuracy can be important, depending on the purpose.\n",
    "\n",
    "Another benefit of using logistic regression model is that it is interpretable."
   ]
  }
 ],
 "metadata": {
  "colab": {
   "name": "Predict_Blood_Donation.ipynb",
   "provenance": []
  },
  "kernelspec": {
   "display_name": "Python 3",
   "language": "python",
   "name": "python3"
  },
  "language_info": {
   "codemirror_mode": {
    "name": "ipython",
    "version": 3
   },
   "file_extension": ".py",
   "mimetype": "text/x-python",
   "name": "python",
   "nbconvert_exporter": "python",
   "pygments_lexer": "ipython3",
   "version": "3.7.8"
  },
  "widgets": {
   "application/vnd.jupyter.widget-state+json": {
    "10370984a6014e4f9dfb1529b9be8d6a": {
     "model_module": "@jupyter-widgets/base",
     "model_name": "LayoutModel",
     "state": {
      "_model_module": "@jupyter-widgets/base",
      "_model_module_version": "1.2.0",
      "_model_name": "LayoutModel",
      "_view_count": null,
      "_view_module": "@jupyter-widgets/base",
      "_view_module_version": "1.2.0",
      "_view_name": "LayoutView",
      "align_content": null,
      "align_items": null,
      "align_self": null,
      "border": null,
      "bottom": null,
      "display": null,
      "flex": null,
      "flex_flow": null,
      "grid_area": null,
      "grid_auto_columns": null,
      "grid_auto_flow": null,
      "grid_auto_rows": null,
      "grid_column": null,
      "grid_gap": null,
      "grid_row": null,
      "grid_template_areas": null,
      "grid_template_columns": null,
      "grid_template_rows": null,
      "height": null,
      "justify_content": null,
      "justify_items": null,
      "left": null,
      "margin": null,
      "max_height": null,
      "max_width": null,
      "min_height": null,
      "min_width": null,
      "object_fit": null,
      "object_position": null,
      "order": null,
      "overflow": null,
      "overflow_x": null,
      "overflow_y": null,
      "padding": null,
      "right": null,
      "top": null,
      "visibility": null,
      "width": null
     }
    },
    "35a96d1dcf534e659a3764f06abc7d0f": {
     "model_module": "@jupyter-widgets/controls",
     "model_name": "HBoxModel",
     "state": {
      "_dom_classes": [],
      "_model_module": "@jupyter-widgets/controls",
      "_model_module_version": "1.5.0",
      "_model_name": "HBoxModel",
      "_view_count": null,
      "_view_module": "@jupyter-widgets/controls",
      "_view_module_version": "1.5.0",
      "_view_name": "HBoxView",
      "box_style": "",
      "children": [
       "IPY_MODEL_a61b3e2588a0498d814832ba6cb19115",
       "IPY_MODEL_b73289910057462eb707a33e7617e4d6"
      ],
      "layout": "IPY_MODEL_10370984a6014e4f9dfb1529b9be8d6a"
     }
    },
    "3d165c88b7b54d509efb9dbdbe1d4df7": {
     "model_module": "@jupyter-widgets/controls",
     "model_name": "ProgressStyleModel",
     "state": {
      "_model_module": "@jupyter-widgets/controls",
      "_model_module_version": "1.5.0",
      "_model_name": "ProgressStyleModel",
      "_view_count": null,
      "_view_module": "@jupyter-widgets/base",
      "_view_module_version": "1.2.0",
      "_view_name": "StyleView",
      "bar_color": null,
      "description_width": "initial"
     }
    },
    "859edbc810124d818bcad86ff127fab3": {
     "model_module": "@jupyter-widgets/controls",
     "model_name": "DescriptionStyleModel",
     "state": {
      "_model_module": "@jupyter-widgets/controls",
      "_model_module_version": "1.5.0",
      "_model_name": "DescriptionStyleModel",
      "_view_count": null,
      "_view_module": "@jupyter-widgets/base",
      "_view_module_version": "1.2.0",
      "_view_name": "StyleView",
      "description_width": ""
     }
    },
    "9ae40d481b894696abe7f9d99be0bdc5": {
     "model_module": "@jupyter-widgets/base",
     "model_name": "LayoutModel",
     "state": {
      "_model_module": "@jupyter-widgets/base",
      "_model_module_version": "1.2.0",
      "_model_name": "LayoutModel",
      "_view_count": null,
      "_view_module": "@jupyter-widgets/base",
      "_view_module_version": "1.2.0",
      "_view_name": "LayoutView",
      "align_content": null,
      "align_items": null,
      "align_self": null,
      "border": null,
      "bottom": null,
      "display": null,
      "flex": null,
      "flex_flow": null,
      "grid_area": null,
      "grid_auto_columns": null,
      "grid_auto_flow": null,
      "grid_auto_rows": null,
      "grid_column": null,
      "grid_gap": null,
      "grid_row": null,
      "grid_template_areas": null,
      "grid_template_columns": null,
      "grid_template_rows": null,
      "height": null,
      "justify_content": null,
      "justify_items": null,
      "left": null,
      "margin": null,
      "max_height": null,
      "max_width": null,
      "min_height": null,
      "min_width": null,
      "object_fit": null,
      "object_position": null,
      "order": null,
      "overflow": null,
      "overflow_x": null,
      "overflow_y": null,
      "padding": null,
      "right": null,
      "top": null,
      "visibility": null,
      "width": null
     }
    },
    "a61b3e2588a0498d814832ba6cb19115": {
     "model_module": "@jupyter-widgets/controls",
     "model_name": "FloatProgressModel",
     "state": {
      "_dom_classes": [],
      "_model_module": "@jupyter-widgets/controls",
      "_model_module_version": "1.5.0",
      "_model_name": "FloatProgressModel",
      "_view_count": null,
      "_view_module": "@jupyter-widgets/controls",
      "_view_module_version": "1.5.0",
      "_view_name": "ProgressView",
      "bar_style": "",
      "description": "Optimization Progress: 100%",
      "description_tooltip": null,
      "layout": "IPY_MODEL_9ae40d481b894696abe7f9d99be0bdc5",
      "max": 120,
      "min": 0,
      "orientation": "horizontal",
      "style": "IPY_MODEL_3d165c88b7b54d509efb9dbdbe1d4df7",
      "value": 120
     }
    },
    "abcd0802fd8f429da62ca343d0985a41": {
     "model_module": "@jupyter-widgets/base",
     "model_name": "LayoutModel",
     "state": {
      "_model_module": "@jupyter-widgets/base",
      "_model_module_version": "1.2.0",
      "_model_name": "LayoutModel",
      "_view_count": null,
      "_view_module": "@jupyter-widgets/base",
      "_view_module_version": "1.2.0",
      "_view_name": "LayoutView",
      "align_content": null,
      "align_items": null,
      "align_self": null,
      "border": null,
      "bottom": null,
      "display": null,
      "flex": null,
      "flex_flow": null,
      "grid_area": null,
      "grid_auto_columns": null,
      "grid_auto_flow": null,
      "grid_auto_rows": null,
      "grid_column": null,
      "grid_gap": null,
      "grid_row": null,
      "grid_template_areas": null,
      "grid_template_columns": null,
      "grid_template_rows": null,
      "height": null,
      "justify_content": null,
      "justify_items": null,
      "left": null,
      "margin": null,
      "max_height": null,
      "max_width": null,
      "min_height": null,
      "min_width": null,
      "object_fit": null,
      "object_position": null,
      "order": null,
      "overflow": null,
      "overflow_x": null,
      "overflow_y": null,
      "padding": null,
      "right": null,
      "top": null,
      "visibility": null,
      "width": null
     }
    },
    "b73289910057462eb707a33e7617e4d6": {
     "model_module": "@jupyter-widgets/controls",
     "model_name": "HTMLModel",
     "state": {
      "_dom_classes": [],
      "_model_module": "@jupyter-widgets/controls",
      "_model_module_version": "1.5.0",
      "_model_name": "HTMLModel",
      "_view_count": null,
      "_view_module": "@jupyter-widgets/controls",
      "_view_module_version": "1.5.0",
      "_view_name": "HTMLView",
      "description": "",
      "description_tooltip": null,
      "layout": "IPY_MODEL_abcd0802fd8f429da62ca343d0985a41",
      "placeholder": "​",
      "style": "IPY_MODEL_859edbc810124d818bcad86ff127fab3",
      "value": " 120/120 [00:04&lt;00:00, 21.97pipeline/s]"
     }
    }
   }
  }
 },
 "nbformat": 4,
 "nbformat_minor": 1
}
